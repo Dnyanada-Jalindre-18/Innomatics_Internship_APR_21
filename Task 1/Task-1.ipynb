{
 "cells": [
  {
   "cell_type": "markdown",
   "id": "respective-dinner",
   "metadata": {},
   "source": [
    "# Task-1\n",
    "## Submitted by : Dnyanada Jalindre\n",
    "\n",
    "### 1. Say \"Hello, World!\" With Python"
   ]
  },
  {
   "cell_type": "code",
   "execution_count": 1,
   "id": "different-configuration",
   "metadata": {},
   "outputs": [
    {
     "name": "stdout",
     "output_type": "stream",
     "text": [
      "Hello, World!\n"
     ]
    }
   ],
   "source": [
    "print(\"Hello, World!\")"
   ]
  },
  {
   "cell_type": "markdown",
   "id": "local-final",
   "metadata": {},
   "source": [
    "### 2.Python If-Else"
   ]
  },
  {
   "cell_type": "code",
   "execution_count": 2,
   "id": "turned-matthew",
   "metadata": {},
   "outputs": [
    {
     "name": "stdout",
     "output_type": "stream",
     "text": [
      "3\n",
      "Weird\n"
     ]
    }
   ],
   "source": [
    "#!/bin/python3\n",
    "\n",
    "import math\n",
    "import os\n",
    "import random\n",
    "import re\n",
    "import sys\n",
    "\n",
    "\n",
    "\n",
    "if __name__ == '__main__':\n",
    "    n = int(input().strip())\n",
    "    if n % 2 == 1:\n",
    "        print(\"Weird\")\n",
    "    elif n in range(2,6) and n % 2 == 0:\n",
    "        print(\"Not Weird\")\n",
    "    elif n in range(6,21) and n % 2 == 0:\n",
    "        print(\"Weird\")\n",
    "    elif n > 20:\n",
    "        print(\"Not Weird\")\n",
    "    else:\n",
    "        print(\"Invalid input\")"
   ]
  },
  {
   "cell_type": "markdown",
   "id": "fantastic-discovery",
   "metadata": {},
   "source": [
    "### 3.Arithmetic Operators"
   ]
  },
  {
   "cell_type": "code",
   "execution_count": 3,
   "id": "another-slave",
   "metadata": {},
   "outputs": [
    {
     "name": "stdout",
     "output_type": "stream",
     "text": [
      "3\n",
      "2\n",
      "5\n",
      "1\n",
      "6\n"
     ]
    }
   ],
   "source": [
    "a = int(input())    # 3\n",
    "b = int(input())    # 2\n",
    "\n",
    "print(a + b)        # this will print 5\n",
    "print(a - b)        # output will be 1\n",
    "print(a * b)        # we'll get 6"
   ]
  },
  {
   "cell_type": "markdown",
   "id": "higher-imagination",
   "metadata": {},
   "source": [
    "### 4.Python: Division"
   ]
  },
  {
   "cell_type": "code",
   "execution_count": 5,
   "id": "personalized-quilt",
   "metadata": {},
   "outputs": [
    {
     "name": "stdout",
     "output_type": "stream",
     "text": [
      "10\n",
      "2\n",
      "\n",
      " 5\n",
      "\n",
      " 5.0\n"
     ]
    }
   ],
   "source": [
    "if __name__ == '__main__':\n",
    "    a = int(input())\n",
    "    b = int(input())\n",
    "\n",
    "    print(\"\\n\",int(a // b))\n",
    "    print(\"\\n\",a / b)"
   ]
  },
  {
   "cell_type": "markdown",
   "id": "resident-presence",
   "metadata": {},
   "source": [
    "### 5.Loops"
   ]
  },
  {
   "cell_type": "code",
   "execution_count": 6,
   "id": "accredited-massachusetts",
   "metadata": {},
   "outputs": [
    {
     "name": "stdout",
     "output_type": "stream",
     "text": [
      "5\n",
      "0\n",
      "1\n",
      "4\n",
      "9\n",
      "16\n"
     ]
    }
   ],
   "source": [
    "if __name__ == '__main__':\n",
    "    n = int(input())\n",
    "    for i in range(0,n) :\n",
    "        print(i * i)"
   ]
  },
  {
   "cell_type": "markdown",
   "id": "postal-replacement",
   "metadata": {},
   "source": [
    "### 6.Write a function"
   ]
  },
  {
   "cell_type": "code",
   "execution_count": 8,
   "id": "cheap-tribune",
   "metadata": {},
   "outputs": [
    {
     "name": "stdout",
     "output_type": "stream",
     "text": [
      "2012\n",
      "True\n"
     ]
    }
   ],
   "source": [
    "def is_leap(year):\n",
    "    leap = False\n",
    "    # Write your logic here\n",
    "    if year % 4 == 0 and (year % 400 == 0 or year % 100 != 0):\n",
    "        leap = True    \n",
    "    return leap\n",
    "\n",
    "year = int(input())\n",
    "print(is_leap(year))"
   ]
  },
  {
   "cell_type": "markdown",
   "id": "fatal-stone",
   "metadata": {},
   "source": [
    "### 7.Print Function"
   ]
  },
  {
   "cell_type": "code",
   "execution_count": 9,
   "id": "rental-olive",
   "metadata": {},
   "outputs": [
    {
     "name": "stdout",
     "output_type": "stream",
     "text": [
      "5\n",
      "12345\n"
     ]
    }
   ],
   "source": [
    "if __name__ == '__main__':\n",
    "    n = int(input())\n",
    "    print(*range(1,n+1), sep='')"
   ]
  }
 ],
 "metadata": {
  "kernelspec": {
   "display_name": "Python 3",
   "language": "python",
   "name": "python3"
  },
  "language_info": {
   "codemirror_mode": {
    "name": "ipython",
    "version": 3
   },
   "file_extension": ".py",
   "mimetype": "text/x-python",
   "name": "python",
   "nbconvert_exporter": "python",
   "pygments_lexer": "ipython3",
   "version": "3.8.5"
  }
 },
 "nbformat": 4,
 "nbformat_minor": 5
}
