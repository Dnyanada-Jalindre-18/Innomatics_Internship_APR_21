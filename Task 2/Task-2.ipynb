{
 "cells": [
  {
   "cell_type": "markdown",
   "id": "military-engagement",
   "metadata": {},
   "source": [
    "## Task 2\n",
    "### Submitted by : Dnyanada Jalindre\n",
    "\n",
    "### 1.List Comprehensions"
   ]
  },
  {
   "cell_type": "code",
   "execution_count": 2,
   "id": "atlantic-bradford",
   "metadata": {},
   "outputs": [
    {
     "name": "stdout",
     "output_type": "stream",
     "text": [
      "1\n",
      "1\n",
      "1\n",
      "2\n",
      "[[0, 0, 0], [0, 0, 1], [0, 1, 0], [1, 0, 0], [1, 1, 1]]\n"
     ]
    }
   ],
   "source": [
    "if __name__ == '__main__':\n",
    "    x = int(input())\n",
    "    y = int(input())\n",
    "    z = int(input())\n",
    "    n = int(input())\n",
    "    \n",
    "    print ([[a,b,c] for a in range(x+1) for b in range(y+1) for c in range(z+1) if a + b + c != n ])"
   ]
  },
  {
   "cell_type": "markdown",
   "id": "noted-convergence",
   "metadata": {},
   "source": [
    "### 2.Finding the percentage"
   ]
  },
  {
   "cell_type": "code",
   "execution_count": 1,
   "id": "balanced-possibility",
   "metadata": {},
   "outputs": [
    {
     "name": "stdout",
     "output_type": "stream",
     "text": [
      "3\n",
      "krish 67 68 69\n",
      "Arjun 70 98 63\n",
      "Malika 52 56 60\n",
      "Malika\n",
      "56.00\n"
     ]
    }
   ],
   "source": [
    "if __name__ == '__main__':\n",
    "    n = int(input())\n",
    "    student_marks = {}\n",
    "    for _ in range(n):\n",
    "        name, *line = input().split()\n",
    "        scores = list(map(float, line))\n",
    "        student_marks[name] = scores\n",
    "    query_name = input()\n",
    "    query_scores = student_marks[query_name]\n",
    "    print(\"{0:.2f}\".format(sum(query_scores)/len(query_scores)))"
   ]
  },
  {
   "cell_type": "markdown",
   "id": "hungarian-think",
   "metadata": {},
   "source": [
    "### 3.Find the Runner-Up Score!"
   ]
  },
  {
   "cell_type": "code",
   "execution_count": 3,
   "id": "listed-plumbing",
   "metadata": {},
   "outputs": [
    {
     "name": "stdout",
     "output_type": "stream",
     "text": [
      "5\n",
      "2 3 6 6 5\n",
      "5\n"
     ]
    }
   ],
   "source": [
    "if __name__ == '__main__':\n",
    "    n = int(input())\n",
    "    arr = list(map(int, input().split()))\n",
    "    \n",
    "    a = max(arr)\n",
    "    while max(arr) == a:\n",
    "        arr.remove(max(arr))\n",
    "         \n",
    "    print(max(arr))\n"
   ]
  },
  {
   "cell_type": "markdown",
   "id": "micro-jimmy",
   "metadata": {},
   "source": [
    "### 4.Nested Lists"
   ]
  },
  {
   "cell_type": "code",
   "execution_count": 5,
   "id": "deadly-removal",
   "metadata": {},
   "outputs": [
    {
     "name": "stdout",
     "output_type": "stream",
     "text": [
      "5\n",
      "Harry\n",
      "37.21\n",
      "Berry\n",
      "37.21\n",
      "Tina\n",
      "37.2\n",
      "Akriti\n",
      "41\n",
      "Harsh\n",
      "39\n",
      "Berry\n",
      "Harry\n"
     ]
    }
   ],
   "source": [
    "list1 = []\n",
    "names = []\n",
    "score_set = set()\n",
    "for _ in range(int(input())):\n",
    "    name = input()\n",
    "    score = float(input())\n",
    "    list1.append([name, score])\n",
    "    score_set.add(score)\n",
    "    \n",
    "second_low = sorted(score_set)[1]\n",
    "\n",
    "for name, score in list1:\n",
    "    if score == second_low:\n",
    "        names.append(name)\n",
    "        \n",
    "for i in sorted(names):\n",
    "    print(i)"
   ]
  },
  {
   "cell_type": "markdown",
   "id": "appointed-salem",
   "metadata": {},
   "source": [
    "### 5.Lists"
   ]
  },
  {
   "cell_type": "code",
   "execution_count": 6,
   "id": "drawn-infrastructure",
   "metadata": {},
   "outputs": [
    {
     "name": "stdout",
     "output_type": "stream",
     "text": [
      "12\n",
      "insert 0 5\n",
      "insert 1 10\n",
      "insert 0 6\n",
      "print\n",
      "[6, 5, 10]\n",
      "remove 6\n",
      "append 9\n",
      "append 1\n",
      "sort\n",
      "print\n",
      "[1, 5, 9, 10]\n",
      "pop\n",
      "reverse\n",
      "print\n",
      "[9, 5, 1]\n"
     ]
    }
   ],
   "source": [
    "if __name__ == '__main__':\n",
    "    N = int(input())\n",
    "    final_list=[]\n",
    "    for _ in range(N):\n",
    "        operation = input().split()\n",
    "        command = operation[0]      \n",
    "        parameter = operation[1:]\n",
    "        if command==\"print\":\n",
    "            print(final_list)\n",
    "        else:\n",
    "            command += \"(\"+ \",\".join(parameter) +\")\"\n",
    "            eval(\"final_list.\" +command)\n",
    "         "
   ]
  },
  {
   "cell_type": "code",
   "execution_count": null,
   "id": "standing-sugar",
   "metadata": {},
   "outputs": [],
   "source": []
  }
 ],
 "metadata": {
  "kernelspec": {
   "display_name": "Python 3",
   "language": "python",
   "name": "python3"
  },
  "language_info": {
   "codemirror_mode": {
    "name": "ipython",
    "version": 3
   },
   "file_extension": ".py",
   "mimetype": "text/x-python",
   "name": "python",
   "nbconvert_exporter": "python",
   "pygments_lexer": "ipython3",
   "version": "3.8.5"
  }
 },
 "nbformat": 4,
 "nbformat_minor": 5
}
