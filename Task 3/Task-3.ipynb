{
 "cells": [
  {
   "cell_type": "markdown",
   "id": "computational-colony",
   "metadata": {},
   "source": [
    "## Task 3\n",
    "### Submitted by : Dnyanada Jalindre"
   ]
  },
  {
   "cell_type": "markdown",
   "id": "indie-sleeping",
   "metadata": {},
   "source": [
    "### 1.Polar Coordinates"
   ]
  },
  {
   "cell_type": "code",
   "execution_count": 1,
   "id": "cutting-recorder",
   "metadata": {},
   "outputs": [
    {
     "name": "stdout",
     "output_type": "stream",
     "text": [
      "1+2j\n",
      "2.23606797749979\n",
      "1.1071487177940904\n"
     ]
    }
   ],
   "source": [
    "import cmath\n",
    "\n",
    "r = complex(input().strip())\n",
    "\n",
    "print(cmath.polar(r)[0])\n",
    "print(cmath.polar(r)[1])"
   ]
  },
  {
   "cell_type": "markdown",
   "id": "major-holmes",
   "metadata": {},
   "source": [
    "### 2.Mod Divmod"
   ]
  },
  {
   "cell_type": "code",
   "execution_count": 2,
   "id": "authentic-release",
   "metadata": {},
   "outputs": [
    {
     "name": "stdout",
     "output_type": "stream",
     "text": [
      "177\n",
      "10\n",
      "17\n",
      "7\n",
      "(17, 7)\n"
     ]
    }
   ],
   "source": [
    "a = int(input())\n",
    "b = int(input())\n",
    "print(a//b)\n",
    "print(a%b)\n",
    "print(divmod(a,b))"
   ]
  },
  {
   "cell_type": "markdown",
   "id": "elegant-ridge",
   "metadata": {},
   "source": [
    "### 3.Power - Mod Power"
   ]
  },
  {
   "cell_type": "code",
   "execution_count": 3,
   "id": "occasional-christmas",
   "metadata": {},
   "outputs": [
    {
     "name": "stdout",
     "output_type": "stream",
     "text": [
      "3\n",
      "4\n",
      "5\n",
      "81\n",
      "1\n"
     ]
    }
   ],
   "source": [
    "a, b, m = int(input()),int(input()), int(input())\n",
    "print(pow(a,b))\n",
    "print(pow(a,b,m))"
   ]
  },
  {
   "cell_type": "markdown",
   "id": "urban-police",
   "metadata": {},
   "source": [
    "### 4.Integers Come In All Sizes\n",
    "\n"
   ]
  },
  {
   "cell_type": "code",
   "execution_count": 4,
   "id": "concrete-speaking",
   "metadata": {},
   "outputs": [
    {
     "name": "stdout",
     "output_type": "stream",
     "text": [
      "9\n",
      "29\n",
      "7\n",
      "27\n",
      "4710194409608608369201743232\n"
     ]
    }
   ],
   "source": [
    "a,b,c,d = int(input()),int(input()),int(input()),int(input())\n",
    "print (pow(a,b)+pow(c,d))"
   ]
  },
  {
   "cell_type": "markdown",
   "id": "stretch-leave",
   "metadata": {},
   "source": [
    "### 5.Triangle Quest"
   ]
  },
  {
   "cell_type": "code",
   "execution_count": 5,
   "id": "marked-payment",
   "metadata": {},
   "outputs": [
    {
     "name": "stdout",
     "output_type": "stream",
     "text": [
      "5\n",
      "1\n",
      "22\n",
      "333\n",
      "4444\n"
     ]
    }
   ],
   "source": [
    "for i in range(1,int(input())): #More than 2 lines will result in 0 score. Do not leave a blank line also\n",
    "    print(i*(10**i -1)//9)"
   ]
  },
  {
   "cell_type": "markdown",
   "id": "quiet-evans",
   "metadata": {},
   "source": [
    "### 6.Triangle Quest 2"
   ]
  },
  {
   "cell_type": "code",
   "execution_count": 6,
   "id": "exposed-vietnamese",
   "metadata": {},
   "outputs": [
    {
     "name": "stdout",
     "output_type": "stream",
     "text": [
      "5\n",
      "1\n",
      "121\n",
      "12321\n",
      "1234321\n",
      "123454321\n"
     ]
    }
   ],
   "source": [
    "for i in range(1,int(input())+1): #More than 2 lines will result in 0 score. Do not leave a blank line also\n",
    "    print(((10**i - 1)//9)**2)"
   ]
  },
  {
   "cell_type": "markdown",
   "id": "enormous-magazine",
   "metadata": {},
   "source": [
    "### 7.Find Angle MBC"
   ]
  },
  {
   "cell_type": "code",
   "execution_count": 7,
   "id": "subjective-spouse",
   "metadata": {},
   "outputs": [
    {
     "name": "stdout",
     "output_type": "stream",
     "text": [
      "10\n",
      "10\n",
      "45°\n"
     ]
    }
   ],
   "source": [
    "# Enter your code here. Read input from STDIN. Print output to STDOUT\n",
    "import math\n",
    "AB,BC=int(input()),int(input())\n",
    "hypotenuse = math.hypot(AB,BC)                     \n",
    "result = round(math.degrees(math.acos(BC/hypotenuse)))  \n",
    "degree=chr(176)                                \n",
    "print(result,degree, sep='')"
   ]
  }
 ],
 "metadata": {
  "kernelspec": {
   "display_name": "Python 3",
   "language": "python",
   "name": "python3"
  },
  "language_info": {
   "codemirror_mode": {
    "name": "ipython",
    "version": 3
   },
   "file_extension": ".py",
   "mimetype": "text/x-python",
   "name": "python",
   "nbconvert_exporter": "python",
   "pygments_lexer": "ipython3",
   "version": "3.8.5"
  }
 },
 "nbformat": 4,
 "nbformat_minor": 5
}
